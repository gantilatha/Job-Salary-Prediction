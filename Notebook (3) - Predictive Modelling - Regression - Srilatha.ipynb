{
 "cells": [
  {
   "cell_type": "markdown",
   "metadata": {},
   "source": [
    "## Project 4 : Job Market Analysis\n",
    "\n",
    "## Notebook 03: Predective Modelling - Regression Analysis"
   ]
  },
  {
   "cell_type": "code",
   "execution_count": 29,
   "metadata": {},
   "outputs": [],
   "source": [
    "import pandas as pd\n",
    "import seaborn as sns\n",
    "import matplotlib.pyplot as plt\n",
    "import numpy as np\n",
    "from sklearn.linear_model import LinearRegression, LogisticRegression, LogisticRegressionCV, RidgeClassifierCV, LassoCV, Lasso\n",
    "from sklearn.ensemble import RandomForestRegressor\n",
    "from sklearn.model_selection import GridSearchCV\n",
    "from sklearn.preprocessing import label_binarize\n",
    "from sklearn.neighbors import KNeighborsRegressor\n",
    "from sklearn import metrics\n",
    "from sklearn.svm import SVC\n",
    "from ipywidgets import *\n",
    "from IPython.display import display\n",
    "from itertools import combinations\n",
    "from sklearn.preprocessing import StandardScaler\n",
    "from sklearn.model_selection import train_test_split, cross_val_score, cross_val_predict\n",
    "pd.set_option('display.max_rows', 500)\n",
    "pd.set_option('display.max_columns', 500)\n",
    "pd.set_option('display.width', 1000)\n",
    "sns.set_style('whitegrid')\n",
    "%matplotlib inline"
   ]
  },
  {
   "cell_type": "markdown",
   "metadata": {},
   "source": [
    "This notebook will focus on identifing key factors impacting salaries and job categories. This csv was saved after completing our EDA in Notebook 02:"
   ]
  },
  {
   "cell_type": "code",
   "execution_count": 2,
   "metadata": {},
   "outputs": [],
   "source": [
    "final_jobs = pd.read_csv('final_jobs.csv', index_col = [0])"
   ]
  },
  {
   "cell_type": "code",
   "execution_count": 3,
   "metadata": {},
   "outputs": [],
   "source": [
    "final_jobs.head();"
   ]
  },
  {
   "cell_type": "code",
   "execution_count": 4,
   "metadata": {},
   "outputs": [],
   "source": [
    "final_jobs.isnull().sum();"
   ]
  },
  {
   "cell_type": "code",
   "execution_count": 5,
   "metadata": {},
   "outputs": [
    {
     "name": "stdout",
     "output_type": "stream",
     "text": [
      "<class 'pandas.core.frame.DataFrame'>\n",
      "Int64Index: 1270 entries, 0 to 1207\n",
      "Data columns (total 15 columns):\n",
      "job_title           1270 non-null object\n",
      "job_location        1270 non-null object\n",
      "advertiser          1270 non-null object\n",
      "posted_date         1270 non-null object\n",
      "salary              1270 non-null object\n",
      "type_of_work        1270 non-null object\n",
      "job_category        1270 non-null object\n",
      "job_subcategory     1270 non-null object\n",
      "job_description     1270 non-null object\n",
      "job_searched        1270 non-null object\n",
      "url                 1270 non-null object\n",
      "new_job_category    1270 non-null object\n",
      "new_job_title       1270 non-null object\n",
      "final_salary        1270 non-null float64\n",
      "experience_level    1270 non-null object\n",
      "dtypes: float64(1), object(14)\n",
      "memory usage: 158.8+ KB\n"
     ]
    }
   ],
   "source": [
    "final_jobs.info();"
   ]
  },
  {
   "cell_type": "markdown",
   "metadata": {},
   "source": [
    "## Data preprocessing \n",
    "\n",
    "Steps required to make the data ready for modelling:\n",
    "\n",
    "1. Considered only features that are important for my model prediction\n",
    "2. Dummified the categorical columns"
   ]
  },
  {
   "cell_type": "code",
   "execution_count": 6,
   "metadata": {},
   "outputs": [],
   "source": [
    "final_jobs_small = final_jobs[['new_job_category','new_job_title','experience_level','job_location','type_of_work']]"
   ]
  },
  {
   "cell_type": "code",
   "execution_count": 7,
   "metadata": {},
   "outputs": [
    {
     "data": {
      "text/html": [
       "<div>\n",
       "<style scoped>\n",
       "    .dataframe tbody tr th:only-of-type {\n",
       "        vertical-align: middle;\n",
       "    }\n",
       "\n",
       "    .dataframe tbody tr th {\n",
       "        vertical-align: top;\n",
       "    }\n",
       "\n",
       "    .dataframe thead th {\n",
       "        text-align: right;\n",
       "    }\n",
       "</style>\n",
       "<table border=\"1\" class=\"dataframe\">\n",
       "  <thead>\n",
       "    <tr style=\"text-align: right;\">\n",
       "      <th></th>\n",
       "      <th>new_job_category</th>\n",
       "      <th>new_job_title</th>\n",
       "      <th>experience_level</th>\n",
       "      <th>job_location</th>\n",
       "      <th>type_of_work</th>\n",
       "    </tr>\n",
       "  </thead>\n",
       "  <tbody>\n",
       "    <tr>\n",
       "      <th>0</th>\n",
       "      <td>Information Technology</td>\n",
       "      <td>data analyst</td>\n",
       "      <td>Mid_level</td>\n",
       "      <td>All-Sydney-NSW</td>\n",
       "      <td>Contract/Temp</td>\n",
       "    </tr>\n",
       "    <tr>\n",
       "      <th>3</th>\n",
       "      <td>Information Technology</td>\n",
       "      <td>data analyst</td>\n",
       "      <td>Junior_level</td>\n",
       "      <td>All-Sydney-NSW</td>\n",
       "      <td>Contract/Temp</td>\n",
       "    </tr>\n",
       "    <tr>\n",
       "      <th>4</th>\n",
       "      <td>Information Technology</td>\n",
       "      <td>data analyst</td>\n",
       "      <td>Mid_level</td>\n",
       "      <td>All-Sydney-NSW</td>\n",
       "      <td>Full Time</td>\n",
       "    </tr>\n",
       "    <tr>\n",
       "      <th>5</th>\n",
       "      <td>Information Technology</td>\n",
       "      <td>data analyst</td>\n",
       "      <td>Mid_level</td>\n",
       "      <td>All-Sydney-NSW</td>\n",
       "      <td>Contract/Temp</td>\n",
       "    </tr>\n",
       "    <tr>\n",
       "      <th>6</th>\n",
       "      <td>Information Technology</td>\n",
       "      <td>data scientist</td>\n",
       "      <td>Mid_level</td>\n",
       "      <td>All-Sydney-NSW</td>\n",
       "      <td>Full Time</td>\n",
       "    </tr>\n",
       "  </tbody>\n",
       "</table>\n",
       "</div>"
      ],
      "text/plain": [
       "         new_job_category   new_job_title experience_level    job_location   type_of_work\n",
       "0  Information Technology    data analyst        Mid_level  All-Sydney-NSW  Contract/Temp\n",
       "3  Information Technology    data analyst     Junior_level  All-Sydney-NSW  Contract/Temp\n",
       "4  Information Technology    data analyst        Mid_level  All-Sydney-NSW      Full Time\n",
       "5  Information Technology    data analyst        Mid_level  All-Sydney-NSW  Contract/Temp\n",
       "6  Information Technology  data scientist        Mid_level  All-Sydney-NSW      Full Time"
      ]
     },
     "execution_count": 7,
     "metadata": {},
     "output_type": "execute_result"
    }
   ],
   "source": [
    "final_jobs_small.head()"
   ]
  },
  {
   "cell_type": "markdown",
   "metadata": {},
   "source": [
    "## Creating dummies for categorical columns"
   ]
  },
  {
   "cell_type": "code",
   "execution_count": 8,
   "metadata": {},
   "outputs": [],
   "source": [
    "final_cols = pd.get_dummies(final_jobs_small, drop_first=True, prefix=None)"
   ]
  },
  {
   "cell_type": "code",
   "execution_count": 9,
   "metadata": {},
   "outputs": [
    {
     "data": {
      "text/plain": [
       "Index(['new_job_category_Gov_Services', 'new_job_category_Information Technology', 'new_job_category_Others', 'new_job_category_Sales & Marketing', 'new_job_title_data analyst', 'new_job_title_data manager', 'new_job_title_data scientist', 'experience_level_Mid_level', 'experience_level_Senior_level', 'job_location_All-Sydney-NSW', 'type_of_work_Contract/Temp', 'type_of_work_Full Time', 'type_of_work_Part Time'], dtype='object')"
      ]
     },
     "execution_count": 9,
     "metadata": {},
     "output_type": "execute_result"
    }
   ],
   "source": [
    "final_cols.columns"
   ]
  },
  {
   "cell_type": "markdown",
   "metadata": {},
   "source": [
    "## Baseline Accuracy & Splitting DataFrame"
   ]
  },
  {
   "cell_type": "code",
   "execution_count": 10,
   "metadata": {},
   "outputs": [],
   "source": [
    "X = final_cols\n",
    "y = final_jobs['final_salary']"
   ]
  },
  {
   "cell_type": "code",
   "execution_count": 11,
   "metadata": {},
   "outputs": [
    {
     "name": "stdout",
     "output_type": "stream",
     "text": [
      "Baseline of model performance: 155353.87992125985\n"
     ]
    }
   ],
   "source": [
    "baseline = np.mean(y)\n",
    "print('Baseline of model performance:' , baseline)"
   ]
  },
  {
   "cell_type": "markdown",
   "metadata": {},
   "source": [
    "## Standardizing the DataFrame\n",
    "Standarzing the data will make the dataset ready for modelling"
   ]
  },
  {
   "cell_type": "code",
   "execution_count": 12,
   "metadata": {
    "scrolled": true
   },
   "outputs": [
    {
     "name": "stderr",
     "output_type": "stream",
     "text": [
      "C:\\MyPrograms\\Anaconda3\\lib\\site-packages\\sklearn\\preprocessing\\data.py:625: DataConversionWarning: Data with input dtype uint8 were all converted to float64 by StandardScaler.\n",
      "  return self.partial_fit(X, y)\n",
      "C:\\MyPrograms\\Anaconda3\\lib\\site-packages\\sklearn\\base.py:462: DataConversionWarning: Data with input dtype uint8 were all converted to float64 by StandardScaler.\n",
      "  return self.fit(X, **fit_params).transform(X)\n"
     ]
    }
   ],
   "source": [
    "ss = StandardScaler()\n",
    "xn = ss.fit_transform(X)"
   ]
  },
  {
   "cell_type": "markdown",
   "metadata": {},
   "source": [
    "## Splitting the data frame to train and test\n",
    "\n",
    "Here I split my data into a train and test set. I will be training all my models on the training set and test it on the test set. This will give me the best idea of how well generalized my model is. I opted with a training set size of 70%."
   ]
  },
  {
   "cell_type": "code",
   "execution_count": 13,
   "metadata": {},
   "outputs": [],
   "source": [
    "X_train,X_test,y_train,y_test = train_test_split(X, y, test_size = 0.3, random_state = 42)"
   ]
  },
  {
   "cell_type": "code",
   "execution_count": 14,
   "metadata": {},
   "outputs": [
    {
     "name": "stdout",
     "output_type": "stream",
     "text": [
      "(889, 13) (889,)\n",
      "(381, 13) (381,)\n"
     ]
    }
   ],
   "source": [
    "print(X_train.shape, y_train.shape)\n",
    "print(X_test.shape, y_test.shape)"
   ]
  },
  {
   "cell_type": "markdown",
   "metadata": {},
   "source": [
    "## Fitting the models"
   ]
  },
  {
   "cell_type": "markdown",
   "metadata": {},
   "source": [
    "## Model 1 : Linear Regression:"
   ]
  },
  {
   "cell_type": "code",
   "execution_count": 15,
   "metadata": {},
   "outputs": [
    {
     "name": "stdout",
     "output_type": "stream",
     "text": [
      "The score of train: 0.27712555504639147\n",
      "The score of test: 0.28203546510083954\n"
     ]
    }
   ],
   "source": [
    "lr=LinearRegression()\n",
    "model = lr.fit(X_train,y_train)\n",
    "print('The score of train:', lr.score(X_train,y_train))\n",
    "print('The score of test:', lr.score(X_test, y_test))"
   ]
  },
  {
   "cell_type": "code",
   "execution_count": 16,
   "metadata": {},
   "outputs": [],
   "source": [
    "y_pred = lr.predict(X_test)\n",
    "y_pred;"
   ]
  },
  {
   "cell_type": "markdown",
   "metadata": {},
   "source": [
    "## Cross-validate the Lasso  𝑅2  with the optimal alpha"
   ]
  },
  {
   "cell_type": "code",
   "execution_count": 17,
   "metadata": {},
   "outputs": [
    {
     "name": "stdout",
     "output_type": "stream",
     "text": [
      "Optimal alpha: 213.18516811649337\n",
      "Mean lasso CV R2: 0.26864489278532633\n"
     ]
    }
   ],
   "source": [
    "optimal_lasso = LassoCV(cv=4).fit(X_train,y_train)\n",
    "\n",
    "lasso = Lasso(alpha=optimal_lasso.alpha_)\n",
    "\n",
    "lasso_scores = cross_val_score(lasso,X_train,y_train, cv=4)\n",
    "print('Optimal alpha:',optimal_lasso.alpha_)\n",
    "print('Mean lasso CV R2:',np.mean(lasso_scores))"
   ]
  },
  {
   "cell_type": "code",
   "execution_count": 18,
   "metadata": {},
   "outputs": [
    {
     "name": "stdout",
     "output_type": "stream",
     "text": [
      "Lasso train score: 0.27229734115359217\n",
      "Lasso test score: 0.2752541049333094\n",
      "RMSE: 48345.345426791835\n"
     ]
    }
   ],
   "source": [
    "lasso.fit(X_train,y_train)\n",
    "y_pred=lasso.predict(X_test)\n",
    "print('Lasso train score:',lasso.score(X_train,y_train))\n",
    "print('Lasso test score:',lasso.score(X_test,y_test))\n",
    "print('RMSE:',np.sqrt(metrics.mean_squared_error(y_test,y_pred)))"
   ]
  },
  {
   "cell_type": "markdown",
   "metadata": {},
   "source": [
    "# Observation:\n",
    "The model created above does not perform particularly well in predicting the salary. This is evident with the low train and test R-squared scores. On average the predictions made with this model are off by $48345. The main issue here is I am predicting 70% of salaries given with 30% and imputing the missing values with median assuming there would be a linear relationship but it is not in this case."
   ]
  },
  {
   "cell_type": "markdown",
   "metadata": {},
   "source": [
    "## Looking at the coefficients for variables in Lasso:"
   ]
  },
  {
   "cell_type": "code",
   "execution_count": 19,
   "metadata": {},
   "outputs": [
    {
     "data": {
      "text/plain": [
       "Lasso(alpha=213.18516811649337, copy_X=True, fit_intercept=True,\n",
       "   max_iter=1000, normalize=False, positive=False, precompute=False,\n",
       "   random_state=None, selection='cyclic', tol=0.0001, warm_start=False)"
      ]
     },
     "execution_count": 19,
     "metadata": {},
     "output_type": "execute_result"
    }
   ],
   "source": [
    "lasso.fit(xn, y)"
   ]
  },
  {
   "cell_type": "code",
   "execution_count": 20,
   "metadata": {},
   "outputs": [
    {
     "data": {
      "text/html": [
       "<div>\n",
       "<style scoped>\n",
       "    .dataframe tbody tr th:only-of-type {\n",
       "        vertical-align: middle;\n",
       "    }\n",
       "\n",
       "    .dataframe tbody tr th {\n",
       "        vertical-align: top;\n",
       "    }\n",
       "\n",
       "    .dataframe thead th {\n",
       "        text-align: right;\n",
       "    }\n",
       "</style>\n",
       "<table border=\"1\" class=\"dataframe\">\n",
       "  <thead>\n",
       "    <tr style=\"text-align: right;\">\n",
       "      <th></th>\n",
       "      <th>Feature</th>\n",
       "      <th>coef</th>\n",
       "      <th>abs_coef</th>\n",
       "    </tr>\n",
       "  </thead>\n",
       "  <tbody>\n",
       "    <tr>\n",
       "      <th>10</th>\n",
       "      <td>type_of_work_Contract/Temp</td>\n",
       "      <td>21086.328519</td>\n",
       "      <td>21086.328519</td>\n",
       "    </tr>\n",
       "    <tr>\n",
       "      <th>1</th>\n",
       "      <td>new_job_category_Information Technology</td>\n",
       "      <td>16720.540899</td>\n",
       "      <td>16720.540899</td>\n",
       "    </tr>\n",
       "    <tr>\n",
       "      <th>8</th>\n",
       "      <td>experience_level_Senior_level</td>\n",
       "      <td>8461.821027</td>\n",
       "      <td>8461.821027</td>\n",
       "    </tr>\n",
       "    <tr>\n",
       "      <th>0</th>\n",
       "      <td>new_job_category_Gov_Services</td>\n",
       "      <td>8118.937323</td>\n",
       "      <td>8118.937323</td>\n",
       "    </tr>\n",
       "    <tr>\n",
       "      <th>5</th>\n",
       "      <td>new_job_title_data manager</td>\n",
       "      <td>5065.940199</td>\n",
       "      <td>5065.940199</td>\n",
       "    </tr>\n",
       "  </tbody>\n",
       "</table>\n",
       "</div>"
      ],
      "text/plain": [
       "                                    Feature          coef      abs_coef\n",
       "10               type_of_work_Contract/Temp  21086.328519  21086.328519\n",
       "1   new_job_category_Information Technology  16720.540899  16720.540899\n",
       "8             experience_level_Senior_level   8461.821027   8461.821027\n",
       "0             new_job_category_Gov_Services   8118.937323   8118.937323\n",
       "5                new_job_title_data manager   5065.940199   5065.940199"
      ]
     },
     "execution_count": 20,
     "metadata": {},
     "output_type": "execute_result"
    }
   ],
   "source": [
    "lasso_coefs = pd.DataFrame({'Feature':X.columns,\n",
    "                            'coef':lasso.coef_,\n",
    "                            'abs_coef':np.abs(lasso.coef_)})\n",
    "\n",
    "lasso_coefs.sort_values('abs_coef', inplace=True, ascending=False)\n",
    "\n",
    "lasso_coefs.head(5)"
   ]
  },
  {
   "cell_type": "markdown",
   "metadata": {},
   "source": [
    "## Model 2 : Random Forest Regressor"
   ]
  },
  {
   "cell_type": "code",
   "execution_count": 21,
   "metadata": {},
   "outputs": [
    {
     "data": {
      "text/plain": [
       "RandomForestRegressor(bootstrap=True, criterion='mse', max_depth=3,\n",
       "           max_features='auto', max_leaf_nodes=None,\n",
       "           min_impurity_decrease=0.0, min_impurity_split=None,\n",
       "           min_samples_leaf=1, min_samples_split=2,\n",
       "           min_weight_fraction_leaf=0.0, n_estimators=10, n_jobs=None,\n",
       "           oob_score=False, random_state=None, verbose=0, warm_start=False)"
      ]
     },
     "execution_count": 21,
     "metadata": {},
     "output_type": "execute_result"
    }
   ],
   "source": [
    "#Instantiate model with 3 decision trees\n",
    "rf = RandomForestRegressor(n_estimators=10, max_depth = 3)\n",
    "#Train the model on training data\n",
    "rf.fit(X_train,y_train)"
   ]
  },
  {
   "cell_type": "code",
   "execution_count": 22,
   "metadata": {},
   "outputs": [
    {
     "name": "stdout",
     "output_type": "stream",
     "text": [
      "Mean random forest CV R2: 0.22200090631577912\n"
     ]
    }
   ],
   "source": [
    "rf_scores = cross_val_score(rf, X_train, y_train, cv=4)\n",
    "print('Mean random forest CV R2:',np.mean(rf_scores))"
   ]
  },
  {
   "cell_type": "markdown",
   "metadata": {},
   "source": [
    "There is no much improvement on RMSE. Both Lasso CV and Random Forest are performing the same and giving the same score"
   ]
  },
  {
   "cell_type": "code",
   "execution_count": 23,
   "metadata": {},
   "outputs": [
    {
     "name": "stdout",
     "output_type": "stream",
     "text": [
      "Random forest train score: 0.2895716805545827\n",
      "Random forest test score: 0.2664832641138083\n",
      "RMSE: 48637.002227311714\n"
     ]
    }
   ],
   "source": [
    "y_pred = rf.predict(X_test)\n",
    "print('Random forest train score:',rf.score(X_train,y_train))\n",
    "print('Random forest test score:',rf.score(X_test,y_test))\n",
    "print('RMSE:',np.sqrt(metrics.mean_squared_error(y_test,y_pred)))"
   ]
  },
  {
   "cell_type": "code",
   "execution_count": 24,
   "metadata": {},
   "outputs": [
    {
     "data": {
      "text/html": [
       "<div>\n",
       "<style scoped>\n",
       "    .dataframe tbody tr th:only-of-type {\n",
       "        vertical-align: middle;\n",
       "    }\n",
       "\n",
       "    .dataframe tbody tr th {\n",
       "        vertical-align: top;\n",
       "    }\n",
       "\n",
       "    .dataframe thead th {\n",
       "        text-align: right;\n",
       "    }\n",
       "</style>\n",
       "<table border=\"1\" class=\"dataframe\">\n",
       "  <thead>\n",
       "    <tr style=\"text-align: right;\">\n",
       "      <th></th>\n",
       "      <th>importance</th>\n",
       "    </tr>\n",
       "  </thead>\n",
       "  <tbody>\n",
       "    <tr>\n",
       "      <th>type_of_work_Contract/Temp</th>\n",
       "      <td>0.609850</td>\n",
       "    </tr>\n",
       "    <tr>\n",
       "      <th>new_job_category_Information Technology</th>\n",
       "      <td>0.210813</td>\n",
       "    </tr>\n",
       "    <tr>\n",
       "      <th>new_job_category_Gov_Services</th>\n",
       "      <td>0.062270</td>\n",
       "    </tr>\n",
       "    <tr>\n",
       "      <th>new_job_title_data manager</th>\n",
       "      <td>0.057408</td>\n",
       "    </tr>\n",
       "    <tr>\n",
       "      <th>experience_level_Senior_level</th>\n",
       "      <td>0.037979</td>\n",
       "    </tr>\n",
       "  </tbody>\n",
       "</table>\n",
       "</div>"
      ],
      "text/plain": [
       "                                         importance\n",
       "type_of_work_Contract/Temp                 0.609850\n",
       "new_job_category_Information Technology    0.210813\n",
       "new_job_category_Gov_Services              0.062270\n",
       "new_job_title_data manager                 0.057408\n",
       "experience_level_Senior_level              0.037979"
      ]
     },
     "execution_count": 24,
     "metadata": {},
     "output_type": "execute_result"
    }
   ],
   "source": [
    "feature_importances = pd.DataFrame(rf.feature_importances_,\n",
    "                                   index = X.columns,\n",
    "                                    columns=['importance'])\n",
    "feature_cols = ['cont/temp','IT','Gov_Services','data manager','senior level']\n",
    "feature_importances.sort_values(by='importance', ascending=False).head()"
   ]
  },
  {
   "cell_type": "markdown",
   "metadata": {},
   "source": [
    "## Observation:\n",
    "\n",
    "1. Both the models are more or less have similar and top features that has high impact in predicting the salaries. As we can see, Type of work plays an important role in defining salary.\n",
    "2. Industry has a moderate to high impact on salary. Especially Information Technology, which we have already seen during the EDA stage.\n",
    "\n",
    "The top impacters of salary are as follows:\n",
    "\n",
    "- Work Type (Contract Employment)\n",
    "- Category / Industry (Information Technology)\n",
    "- Job Title (Data Manager)"
   ]
  },
  {
   "cell_type": "markdown",
   "metadata": {},
   "source": [
    "# I tried both regression and classification models for predecting saalries. This notebook is with regression models. The notebook(4) is defined with classification models."
   ]
  }
 ],
 "metadata": {
  "kernelspec": {
   "display_name": "Python 3",
   "language": "python",
   "name": "python3"
  },
  "language_info": {
   "codemirror_mode": {
    "name": "ipython",
    "version": 3
   },
   "file_extension": ".py",
   "mimetype": "text/x-python",
   "name": "python",
   "nbconvert_exporter": "python",
   "pygments_lexer": "ipython3",
   "version": "3.7.1"
  }
 },
 "nbformat": 4,
 "nbformat_minor": 2
}
