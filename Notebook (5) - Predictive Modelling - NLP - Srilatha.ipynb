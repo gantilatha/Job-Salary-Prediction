{
 "cells": [
  {
   "cell_type": "markdown",
   "metadata": {},
   "source": [
    "## Project 4 : Job Market Analysis\n",
    "## Notebook 05: Predictive Model Building using NLP"
   ]
  },
  {
   "cell_type": "markdown",
   "metadata": {},
   "source": [
    "This step is to identify the top skills for each job category. In order to do that, I will use the job description, using natural language processing techniques. Upon which, I will build a classification model and check the importance of top keywords appearing for each job category.\n",
    "\n",
    "I will use the Tf-Idf Vectorizer to transform my documents to vectors, and then run models on it."
   ]
  },
  {
   "cell_type": "code",
   "execution_count": 1,
   "metadata": {},
   "outputs": [],
   "source": [
    "import pandas as pd\n",
    "import numpy as np\n",
    "import scipy as sp\n",
    "from sklearn.model_selection import train_test_split\n",
    "from sklearn.feature_extraction.text import CountVectorizer, TfidfVectorizer,ENGLISH_STOP_WORDS\n",
    "from sklearn.naive_bayes import MultinomialNB\n",
    "from sklearn.linear_model import LogisticRegression\n",
    "from sklearn.ensemble import RandomForestClassifier, ExtraTreesClassifier\n",
    "from sklearn import metrics\n",
    "from sklearn.model_selection import cross_validate, cross_val_score, cross_val_predict\n",
    "from sklearn import model_selection, naive_bayes, svm\n",
    "from sklearn.metrics import accuracy_score\n",
    "from textblob import TextBlob, Word\n",
    "from nltk.stem.snowball import SnowballStemmer\n",
    "import matplotlib.pyplot as plt\n",
    "import seaborn as sns\n",
    "%matplotlib inline\n",
    "sns.set_style(\"whitegrid\")"
   ]
  },
  {
   "cell_type": "code",
   "execution_count": 2,
   "metadata": {},
   "outputs": [],
   "source": [
    "df = pd.read_csv('final_jobs.csv', index_col = [0])"
   ]
  },
  {
   "cell_type": "code",
   "execution_count": 3,
   "metadata": {},
   "outputs": [],
   "source": [
    "df.head();"
   ]
  },
  {
   "cell_type": "code",
   "execution_count": 4,
   "metadata": {},
   "outputs": [],
   "source": [
    "x_df =df['job_description']\n",
    "y_df = df['new_job_title']"
   ]
  },
  {
   "cell_type": "code",
   "execution_count": 5,
   "metadata": {},
   "outputs": [],
   "source": [
    "x_df.head();"
   ]
  },
  {
   "cell_type": "markdown",
   "metadata": {},
   "source": [
    "## Dependant Variable:\n",
    "The baseline prediction for this problem is 48.7% because this is the ratio that is most predominant group in my dataset of 1248 records."
   ]
  },
  {
   "cell_type": "code",
   "execution_count": 6,
   "metadata": {},
   "outputs": [
    {
     "data": {
      "text/plain": [
       "data analyst        0.474803\n",
       "business analyst    0.431496\n",
       "data manager        0.063780\n",
       "data scientist      0.029921\n",
       "Name: new_job_title, dtype: float64"
      ]
     },
     "execution_count": 6,
     "metadata": {},
     "output_type": "execute_result"
    }
   ],
   "source": [
    "y_df.value_counts(normalize = True)"
   ]
  },
  {
   "cell_type": "markdown",
   "metadata": {},
   "source": [
    "## Splitting the DataFrame to train and test data\n",
    "\n",
    "Splitting the size of the data to 85-15 train and test "
   ]
  },
  {
   "cell_type": "code",
   "execution_count": 7,
   "metadata": {},
   "outputs": [],
   "source": [
    "X_train, X_test, y_train, y_test=train_test_split(x_df, y_df, test_size = 0.15, random_state=42)"
   ]
  },
  {
   "cell_type": "code",
   "execution_count": 8,
   "metadata": {},
   "outputs": [],
   "source": [
    "X_train.head(), \"****\", X_test.head();"
   ]
  },
  {
   "cell_type": "markdown",
   "metadata": {},
   "source": [
    "## TF-IDF\n",
    "\n",
    "- I simply used the Tf-idf vectorizer to transform my train and test data. I did not try lemmetizing and stemming in this.\n",
    "- I populated the stop-word list using trial and error methods using multiple runs of this program."
   ]
  },
  {
   "cell_type": "code",
   "execution_count": 28,
   "metadata": {},
   "outputs": [],
   "source": [
    "## Adding extended_stopwords:\n",
    "extended_stopwords = ['business', 'process', 'requirements','product', 'state', 'specifications', 'excellent', 'user', 'document', 'domain', 'mapping', \n",
    "'relationships', 'sector', 'change', 'analyse', 'intelligence', 'identify', 'stories', '12', 'ability', 'wealth', 'cases','objectives'\n",
    "'data', 'scientist', 'science', 'asset', 'master', 'entry', 'advertising', 'macquarie','problems', 'clients', 'ibm', 'preferred', 'integrity', 'customers',\n",
    "'use', 'end', 'children', 'technologies', 'manager', 'centre', 'vendor', 'project', 'account', 'electrical', 'fraud', 'selling', 'salexo', 'data', 'program', \n",
    "'marketing', 'record', 'targets','market','investment','9922','centers', 'cancer', 'statistical', 'detection', 'deloitte', 'epidemiological',\n",
    "'extremely', 'depth', 'mcs', 'patterns', 'familiarity', 'prevention', 'council', 'flat', 'pattern', 'wish', 'freedom', 'grant', 'collaborate', 'thorough',\n",
    "'got', 'doing', 'cdc', 'selection', 'recognition', 'behaviours', 'understand', 'structures','analyst','managers', 'analytics','managing', 'managers', '000', 'cables', 'drive', 'promote', 'channel', 'scale', \n",
    "'standing', 'current', 'optus', 'large','org','papers','improve', 'contribute', 'hortonworks', 'packaging', 'verbally', 'happy','retention','learner','structure', 'discuss','marinov',\n",
    "'unicorn', 'craftsman','anton','deem','makersin', 'spacious', 'gathering', 'ba', 'stakeholders', 'projects', 'processes', 'new', 'banking','insights','advanced','tools','governance',\n",
    "'andrew', 'cabling','base', 'products','consistent','managed', 'emerging','medical', 'series', 'sciences','experienceminimum','health','pharmacy','islander', 'trial', 'longitudinal', 'connections', 'exchange', 'stacks', 'applyclick', 'torres',\n",
    "'strait','operational','facilitate','plans','solution','courage','8888','9481','politics','rare','experienceideally','aborginal', 'trying', 'swineburne','capital','studies']\n",
    "\n",
    "my_sw = list(ENGLISH_STOP_WORDS) + extended_stopwords"
   ]
  },
  {
   "cell_type": "code",
   "execution_count": 29,
   "metadata": {},
   "outputs": [
    {
     "data": {
      "text/plain": [
       "485"
      ]
     },
     "execution_count": 29,
     "metadata": {},
     "output_type": "execute_result"
    }
   ],
   "source": [
    "len(my_sw)"
   ]
  },
  {
   "cell_type": "code",
   "execution_count": 30,
   "metadata": {},
   "outputs": [],
   "source": [
    "vectorizer = TfidfVectorizer(stop_words= my_sw)\n",
    "X1 = vectorizer.fit(X_train, y_train)\n",
    "y1 = vectorizer.fit(X_test, y_test)"
   ]
  },
  {
   "cell_type": "code",
   "execution_count": 31,
   "metadata": {},
   "outputs": [],
   "source": [
    "X_train1 = pd.DataFrame(vectorizer.transform(X_train, y_train).todense(),\n",
    "                       columns=vectorizer.get_feature_names())\n",
    "X_test1  = pd.DataFrame(vectorizer.transform(X_test, y_test).todense(),\n",
    "                       columns=vectorizer.get_feature_names())"
   ]
  },
  {
   "cell_type": "code",
   "execution_count": 32,
   "metadata": {},
   "outputs": [
    {
     "data": {
      "text/plain": [
       "((191, 5664), (1079, 5664), (1079,), (191,))"
      ]
     },
     "execution_count": 32,
     "metadata": {},
     "output_type": "execute_result"
    }
   ],
   "source": [
    "X_test1.shape, X_train1.shape, y_train.shape, y_test.shape"
   ]
  },
  {
   "cell_type": "markdown",
   "metadata": {},
   "source": [
    "## Modelling:\n",
    "## 1. Logistic Regression"
   ]
  },
  {
   "cell_type": "code",
   "execution_count": 57,
   "metadata": {},
   "outputs": [
    {
     "name": "stdout",
     "output_type": "stream",
     "text": [
      "Overall Training Accuracy: 87.9%\n",
      "Overall Testing Accuracy: 71.7%\n"
     ]
    }
   ],
   "source": [
    "## Logistic regression without cross validation with L2\n",
    "logres = LogisticRegression(penalty = 'l2', C= 1.0, multi_class='auto', solver='lbfgs').fit(X_train1, y_train)\n",
    "print('Overall Training Accuracy: {:.1f}%'.format(logres.score(X_train1, y_train)* 100))\n",
    "print('Overall Testing Accuracy: {:.1f}%'.format(logres.score(X_test1, y_test) * 100))"
   ]
  },
  {
   "cell_type": "code",
   "execution_count": 55,
   "metadata": {},
   "outputs": [
    {
     "name": "stdout",
     "output_type": "stream",
     "text": [
      "Overall Training Accuracy: 77.7%\n",
      "Overall Testing Accuracy: 71.7%\n"
     ]
    },
    {
     "name": "stderr",
     "output_type": "stream",
     "text": [
      "C:\\MyPrograms\\Anaconda3\\lib\\site-packages\\sklearn\\linear_model\\sag.py:334: ConvergenceWarning: The max_iter was reached which means the coef_ did not converge\n",
      "  \"the coef_ did not converge\", ConvergenceWarning)\n"
     ]
    }
   ],
   "source": [
    "## Logistic regression without cross validation with L1\n",
    "logres_2 = LogisticRegression(penalty = 'l1', C= 1.2, multi_class='auto', solver='saga').fit(X_train1, y_train)\n",
    "print('Overall Training Accuracy: {:.1f}%'.format(logres_2.score(X_train1, y_train)* 100))\n",
    "print('Overall Testing Accuracy: {:.1f}%'.format(logres_2.score(X_test1, y_test) * 100))"
   ]
  },
  {
   "cell_type": "code",
   "execution_count": 63,
   "metadata": {},
   "outputs": [
    {
     "name": "stdout",
     "output_type": "stream",
     "text": [
      "Overall Training Accuracy for Logistic Regression: 67.8%\n",
      "Overall Testing Accuracy for Logistic Regression: 50.8%\n"
     ]
    }
   ],
   "source": [
    "## Logistic Regression with crossvalidation and L1\n",
    "logres1 = LogisticRegression(penalty = 'l1', C= 0.5, multi_class='auto', solver='liblinear').fit(X_train1, y_train)\n",
    "cv_train_score6 = np.mean(cross_val_score(logres1, X_train1, y_train, cv=5, n_jobs=1))\n",
    "cv_test_score6 = np.mean(cross_val_score(logres1, X_test1, y_test, cv=5, n_jobs=1))\n",
    "train_pred1 = logres1.predict(X_train1)\n",
    "test_pred1 = logres1.predict(X_test1)\n",
    "print('Overall Training Accuracy for Logistic Regression: {:.1f}%'.format(cv_train_score6 * 100))\n",
    "print('Overall Testing Accuracy for Logistic Regression: {:.1f}%'.format(cv_test_score6 * 100))"
   ]
  },
  {
   "cell_type": "code",
   "execution_count": 70,
   "metadata": {},
   "outputs": [
    {
     "name": "stdout",
     "output_type": "stream",
     "text": [
      "Overall Training Accuracy for Logistic Regression: 75.1%\n",
      "Overall Testing Accuracy for Logistic Regression: 57.6%\n"
     ]
    }
   ],
   "source": [
    "## Logistic Regression with crossvalidation with L2\n",
    "logres1 = LogisticRegression(penalty = 'l2', C= 0.6, multi_class='auto', solver='lbfgs').fit(X_train1, y_train)\n",
    "cv_train_score6 = np.mean(cross_val_score(logres1, X_train1, y_train, cv=5, n_jobs=1))\n",
    "cv_test_score6 = np.mean(cross_val_score(logres1, X_test1, y_test, cv=5, n_jobs=1))\n",
    "train_pred1 = logres1.predict(X_train1)\n",
    "test_pred1 = logres1.predict(X_test1)\n",
    "print('Overall Training Accuracy for Logistic Regression: {:.1f}%'.format(cv_train_score6 * 100))\n",
    "print('Overall Testing Accuracy for Logistic Regression: {:.1f}%'.format(cv_test_score6 * 100))"
   ]
  },
  {
   "cell_type": "markdown",
   "metadata": {},
   "source": [
    "# Buzz Words for each category\n",
    "\n",
    "Here, I am trying to check the keywords that have the highest weightage for each job category through coefficients from Logistic Regression. \n",
    "\n",
    "Below are the top features for each class and the plots with key words for each category."
   ]
  },
  {
   "cell_type": "code",
   "execution_count": 37,
   "metadata": {},
   "outputs": [
    {
     "data": {
      "text/html": [
       "<div>\n",
       "<style scoped>\n",
       "    .dataframe tbody tr th:only-of-type {\n",
       "        vertical-align: middle;\n",
       "    }\n",
       "\n",
       "    .dataframe tbody tr th {\n",
       "        vertical-align: top;\n",
       "    }\n",
       "\n",
       "    .dataframe thead th {\n",
       "        text-align: right;\n",
       "    }\n",
       "</style>\n",
       "<table border=\"1\" class=\"dataframe\">\n",
       "  <thead>\n",
       "    <tr style=\"text-align: right;\">\n",
       "      <th></th>\n",
       "      <th>ba</th>\n",
       "      <th>da</th>\n",
       "      <th>dm</th>\n",
       "      <th>ds</th>\n",
       "      <th>word</th>\n",
       "    </tr>\n",
       "  </thead>\n",
       "  <tbody>\n",
       "    <tr>\n",
       "      <th>2316</th>\n",
       "      <td>1.629073</td>\n",
       "      <td>-1.471064</td>\n",
       "      <td>-0.414035</td>\n",
       "      <td>-0.033156</td>\n",
       "      <td>functional</td>\n",
       "    </tr>\n",
       "    <tr>\n",
       "      <th>4557</th>\n",
       "      <td>1.521326</td>\n",
       "      <td>-1.712768</td>\n",
       "      <td>0.662438</td>\n",
       "      <td>-0.399411</td>\n",
       "      <td>sales</td>\n",
       "    </tr>\n",
       "    <tr>\n",
       "      <th>5627</th>\n",
       "      <td>1.347847</td>\n",
       "      <td>-1.152400</td>\n",
       "      <td>-0.248641</td>\n",
       "      <td>-0.177695</td>\n",
       "      <td>workshops</td>\n",
       "    </tr>\n",
       "    <tr>\n",
       "      <th>1756</th>\n",
       "      <td>1.210473</td>\n",
       "      <td>-0.996510</td>\n",
       "      <td>-0.268459</td>\n",
       "      <td>-0.217791</td>\n",
       "      <td>documentation</td>\n",
       "    </tr>\n",
       "    <tr>\n",
       "      <th>3580</th>\n",
       "      <td>1.156990</td>\n",
       "      <td>-0.795086</td>\n",
       "      <td>-0.404411</td>\n",
       "      <td>-0.100267</td>\n",
       "      <td>operations</td>\n",
       "    </tr>\n",
       "    <tr>\n",
       "      <th>2202</th>\n",
       "      <td>1.125453</td>\n",
       "      <td>-1.067675</td>\n",
       "      <td>-0.005395</td>\n",
       "      <td>-0.299218</td>\n",
       "      <td>financial</td>\n",
       "    </tr>\n",
       "    <tr>\n",
       "      <th>470</th>\n",
       "      <td>1.104602</td>\n",
       "      <td>-0.529650</td>\n",
       "      <td>-1.005316</td>\n",
       "      <td>0.008351</td>\n",
       "      <td>analysis</td>\n",
       "    </tr>\n",
       "    <tr>\n",
       "      <th>399</th>\n",
       "      <td>1.067125</td>\n",
       "      <td>-0.888831</td>\n",
       "      <td>-0.247081</td>\n",
       "      <td>-0.151547</td>\n",
       "      <td>agile</td>\n",
       "    </tr>\n",
       "    <tr>\n",
       "      <th>5163</th>\n",
       "      <td>1.000682</td>\n",
       "      <td>-0.901492</td>\n",
       "      <td>-0.471986</td>\n",
       "      <td>0.123076</td>\n",
       "      <td>technical</td>\n",
       "    </tr>\n",
       "    <tr>\n",
       "      <th>2596</th>\n",
       "      <td>0.977073</td>\n",
       "      <td>-0.813930</td>\n",
       "      <td>-0.239481</td>\n",
       "      <td>-0.022748</td>\n",
       "      <td>ict</td>\n",
       "    </tr>\n",
       "  </tbody>\n",
       "</table>\n",
       "</div>"
      ],
      "text/plain": [
       "            ba        da        dm        ds           word\n",
       "2316  1.629073 -1.471064 -0.414035 -0.033156     functional\n",
       "4557  1.521326 -1.712768  0.662438 -0.399411          sales\n",
       "5627  1.347847 -1.152400 -0.248641 -0.177695      workshops\n",
       "1756  1.210473 -0.996510 -0.268459 -0.217791  documentation\n",
       "3580  1.156990 -0.795086 -0.404411 -0.100267     operations\n",
       "2202  1.125453 -1.067675 -0.005395 -0.299218      financial\n",
       "470   1.104602 -0.529650 -1.005316  0.008351       analysis\n",
       "399   1.067125 -0.888831 -0.247081 -0.151547          agile\n",
       "5163  1.000682 -0.901492 -0.471986  0.123076      technical\n",
       "2596  0.977073 -0.813930 -0.239481 -0.022748            ict"
      ]
     },
     "execution_count": 37,
     "metadata": {},
     "output_type": "execute_result"
    }
   ],
   "source": [
    "coefs = pd.DataFrame(logres.coef_).T\n",
    "coefs.columns = ['ba','da','dm','ds']\n",
    "coefs['word'] = vectorizer.get_feature_names()\n",
    "coefs.sort_values('ba', ascending = False).head(10)"
   ]
  },
  {
   "cell_type": "code",
   "execution_count": 39,
   "metadata": {},
   "outputs": [
    {
     "data": {
      "image/png": "[encoded data removed]",
      "text/plain": [
       "<Figure size 1008x864 with 4 Axes>"
      ]
     },
     "metadata": {
      "needs_background": "light"
     },
     "output_type": "display_data"
    }
   ],
   "source": [
    "fig, ax = plt.subplots(2,2, figsize = (14,12), sharex= True)\n",
    "\n",
    "sns.barplot(y='word', x='ba', data=coefs.sort_values('ba', ascending=False).head(20), ax=ax[0][0], color = 'C0')\n",
    "sns.barplot(y='word', x='da', data=coefs.sort_values('da', ascending=False).head(20), ax=ax[0][1], color = 'g')\n",
    "sns.barplot(y='word', x='dm', data=coefs.sort_values('dm', ascending=False).head(20), ax=ax[1][0], color = 'C4')\n",
    "sns.barplot(y='word', x='ds', data=coefs.sort_values('ds', ascending=False).head(20), ax=ax[1][1], color = 'C5')\n",
    "plt.suptitle('Top Key Words for Job Category', fontsize =20)\n",
    "plt.show()"
   ]
  },
  {
   "cell_type": "markdown",
   "metadata": {},
   "source": [
    "## Observations:\n",
    "\n",
    "The top words and key findings for each job category are as follows:\n",
    "\n",
    "1. A Business Analyst is expected to have basic technical skills, most of the skills we see in the chart are agile, functional, financial and planning.\n",
    "2. The Data Analyst shows SQL, tableau, Azure, Hadoop, AWS so on and so forth as the top technical skills. As a Data Analyst, these are the basic skills expected in the market.\n",
    "3. The Data Manager depicts more of managerial skills like strategy, responsibility, budgeting etc. which every manager is expected to have.\n",
    "4. The keywords for Data Scientists do not exhibit a useful pattern due to lesser observations (only 38 observations) as well as vagueness in the job descriptions. Some of the relevant words which were picked up as top skills are AI, machine learning, modelling, predective etc."
   ]
  },
  {
   "cell_type": "markdown",
   "metadata": {},
   "source": [
    "## 2. SVM"
   ]
  },
  {
   "cell_type": "code",
   "execution_count": 20,
   "metadata": {},
   "outputs": [
    {
     "name": "stdout",
     "output_type": "stream",
     "text": [
      "Overall Training Accuracy for SVM: 82.9%\n",
      "Overall Testing Accuracy for SVM: 71.2%\n"
     ]
    }
   ],
   "source": [
    "# fit the training dataset on the classifier\n",
    "SVM = svm.SVC(C = 0.2, kernel='linear', degree=3, gamma='auto', random_state= 42)\n",
    "SVM.fit(X_train1,y_train)\n",
    "# predict the labels on validation dataset\n",
    "predictions_SVM = SVM.predict(X_test1)\n",
    "# Use accuracy_score function to get the accuracy\n",
    "#print(\"SVM Accuracy Score -> \",accuracy_score(predictions_SVM, y_test)*100)\n",
    "print('Overall Training Accuracy for SVM: {:.1f}%'.format(SVM.score(X_train1, y_train)* 100))\n",
    "print('Overall Testing Accuracy for SVM: {:.1f}%'.format(SVM.score(X_test1, y_test) * 100))"
   ]
  },
  {
   "cell_type": "code",
   "execution_count": 21,
   "metadata": {},
   "outputs": [
    {
     "name": "stdout",
     "output_type": "stream",
     "text": [
      "Overall Training Accuracy for SVM Linear: 73.3%\n",
      "Overall Testing Accuracy for SVM Linear : 50.8%\n"
     ]
    }
   ],
   "source": [
    "# SVM linear with cross validation\n",
    "cv_train_score3 = np.mean(cross_val_score(SVM, X_train1, y_train, cv=3, n_jobs= 1))\n",
    "cv_test_score3 = np.mean(cross_val_score(SVM, X_test1, y_test, cv=3, n_jobs= 1))\n",
    "train_pred = SVM.predict(X_train1)\n",
    "test_pred = SVM.predict(X_test1)\n",
    "print('Overall Training Accuracy for SVM Linear: {:.1f}%'.format(cv_train_score3 * 100))\n",
    "print('Overall Testing Accuracy for SVM Linear : {:.1f}%'.format(cv_test_score3 * 100))"
   ]
  },
  {
   "cell_type": "code",
   "execution_count": 22,
   "metadata": {},
   "outputs": [
    {
     "name": "stdout",
     "output_type": "stream",
     "text": [
      "Overall Training Accuracy for SVM with rbf: 46.9%\n",
      "Overall Testing Accuracy for SVM with rbf: 50.8%\n"
     ]
    }
   ],
   "source": [
    "# fit the training dataset on the classifier\n",
    "SVM2 = svm.SVC(C = 1.5, kernel='rbf', degree=2, gamma='auto', random_state= 42)\n",
    "SVM2.fit(X_train1,y_train)\n",
    "# predict the labels on validation dataset\n",
    "predictions_SVM2 = SVM2.predict(X_test1)\n",
    "# Use accuracy_score function to get the accuracy\n",
    "print('Overall Training Accuracy for SVM with rbf: {:.1f}%'.format(SVM2.score(X_train1, y_train)* 100))\n",
    "print('Overall Testing Accuracy for SVM with rbf: {:.1f}%'.format(SVM2.score(X_test1, y_test) * 100))"
   ]
  },
  {
   "cell_type": "code",
   "execution_count": 23,
   "metadata": {},
   "outputs": [
    {
     "name": "stdout",
     "output_type": "stream",
     "text": [
      "Overall Training Accuracy for SVM rbf: 46.9%\n",
      "Overall Testing Accuracy for SVM rbf: 50.8%\n"
     ]
    }
   ],
   "source": [
    "## SVM rbf with cross validation\n",
    "cv_train_score4 = np.mean(cross_val_score(SVM2, X_train1, y_train, cv=5, n_jobs=1))\n",
    "cv_test_score4 = np.mean(cross_val_score(SVM2, X_test1, y_test, cv=5, n_jobs=1))\n",
    "train_pred = SVM2.predict(X_train1)\n",
    "test_pred = SVM2.predict(X_test1)\n",
    "print('Overall Training Accuracy for SVM rbf: {:.1f}%'.format(cv_train_score4 * 100))\n",
    "print('Overall Testing Accuracy for SVM rbf: {:.1f}%'.format(cv_test_score4 * 100))"
   ]
  },
  {
   "cell_type": "markdown",
   "metadata": {},
   "source": [
    "## 3. Naive Bayes"
   ]
  },
  {
   "cell_type": "code",
   "execution_count": 24,
   "metadata": {},
   "outputs": [
    {
     "name": "stdout",
     "output_type": "stream",
     "text": [
      "Overall Training Accuracy for Naive Bayes: 83.8%\n",
      "Overall Testing Accuracy for Naive Bayes: 70.7%\n"
     ]
    }
   ],
   "source": [
    "# fit the training dataset on the NB classifier\n",
    "Naive = naive_bayes.MultinomialNB(alpha = 0.6)\n",
    "Naive.fit(X_train1,y_train)\n",
    "# predict the labels on validation dataset\n",
    "predictions_NB = Naive.predict(X_test1)\n",
    "# score function to get the overall score for training and testing to make sure the model is not overfit or underfit\n",
    "print('Overall Training Accuracy for Naive Bayes: {:.1f}%'.format(Naive.score(X_train1, y_train)* 100))\n",
    "print('Overall Testing Accuracy for Naive Bayes: {:.1f}%'.format(Naive.score(X_test1, y_test) * 100))"
   ]
  },
  {
   "cell_type": "code",
   "execution_count": 25,
   "metadata": {},
   "outputs": [
    {
     "name": "stdout",
     "output_type": "stream",
     "text": [
      "Overall Training Accuracy for Naive Bayes: 75.2%\n",
      "Overall Testing Accuracy for Naive Bayes: 57.1%\n"
     ]
    }
   ],
   "source": [
    "## Naive Bayes with cross validation\n",
    "cv_train_score2 = np.mean(cross_val_score(Naive, X_train1, y_train, cv=5, n_jobs= 1))\n",
    "cv_test_score2 = np.mean(cross_val_score(Naive, X_test1, y_test, cv=5, n_jobs= 1))\n",
    "train_pred = Naive.predict(X_train1)\n",
    "test_pred = Naive.predict(X_test1)\n",
    "print('Overall Training Accuracy for Naive Bayes: {:.1f}%'.format(cv_train_score2 * 100))\n",
    "print('Overall Testing Accuracy for Naive Bayes: {:.1f}%'.format(cv_test_score2 * 100))"
   ]
  },
  {
   "cell_type": "markdown",
   "metadata": {},
   "source": [
    "# 4. Random Forest"
   ]
  },
  {
   "cell_type": "code",
   "execution_count": 26,
   "metadata": {},
   "outputs": [
    {
     "name": "stdout",
     "output_type": "stream",
     "text": [
      "Overall Training Accuracy for Randorm Forest: 83.8%\n",
      "Overall Testing Accuracy for Random Forest: 70.7%\n"
     ]
    }
   ],
   "source": [
    "## Random Forest without cross validation\n",
    "clf = RandomForestClassifier(n_estimators= 10)\n",
    "clf.fit(X_train1,y_train)\n",
    "# predict the labels on validation dataset\n",
    "predictions_clf = clf.predict(X_test1)\n",
    "print('Overall Training Accuracy for Randorm Forest: {:.1f}%'.format(Naive.score(X_train1, y_train)* 100))\n",
    "print('Overall Testing Accuracy for Random Forest: {:.1f}%'.format(Naive.score(X_test1, y_test) * 100))"
   ]
  },
  {
   "cell_type": "code",
   "execution_count": 27,
   "metadata": {},
   "outputs": [
    {
     "name": "stdout",
     "output_type": "stream",
     "text": [
      "Overall Training Accuracy for RandomForest: 66.5%\n",
      "Overall Testing Accuracy for RandomForest: 57.3%\n"
     ]
    }
   ],
   "source": [
    "## Random Forest with cross validation\n",
    "clf = RandomForestClassifier(n_estimators= 10)\n",
    "clf.fit(X_train1,y_train)\n",
    "cv_train_score = np.mean(cross_val_score(clf, X_train1, y_train, cv=5, n_jobs=1))\n",
    "cv_test_score = np.mean(cross_val_score(clf, X_test1, y_test, cv=5, n_jobs=1))\n",
    "print('Overall Training Accuracy for RandomForest: {:.1f}%'.format(cv_train_score * 100))\n",
    "print('Overall Testing Accuracy for RandomForest: {:.1f}%'.format(cv_test_score * 100))"
   ]
  },
  {
   "cell_type": "markdown",
   "metadata": {},
   "source": [
    "# Observations:\n",
    "\n",
    "I tried four different classification models for this problem:\n",
    "\n",
    "1. Logistic Regression(l1, l2)\n",
    "2. SVM (linear,rbf)\n",
    "3. Naive Bayes\n",
    "4. Random Forest\n",
    "\n",
    "## Conclusion:\n",
    "\n",
    "Logistic Regression with L1 penalty and SVM with rbf are the two models I would choose for now as they are giving me better score with less variance (6% variance). All the other models are overfitting with huge variance which I feel is not ideal for better prediction.\n",
    "\n",
    "The analysis was based on very few observations and it can always be improvised with the larger data and I would look upon working on it further by scraping in future for better analysis and prediction."
   ]
  }
 ],
 "metadata": {
  "kernelspec": {
   "display_name": "Python 3",
   "language": "python",
   "name": "python3"
  },
  "language_info": {
   "codemirror_mode": {
    "name": "ipython",
    "version": 3
   },
   "file_extension": ".py",
   "mimetype": "text/x-python",
   "name": "python",
   "nbconvert_exporter": "python",
   "pygments_lexer": "ipython3",
   "version": "3.7.1"
  }
 },
 "nbformat": 4,
 "nbformat_minor": 2
}
